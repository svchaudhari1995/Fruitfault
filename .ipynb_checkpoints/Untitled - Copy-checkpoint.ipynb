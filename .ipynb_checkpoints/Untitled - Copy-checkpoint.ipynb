{
 "cells": [
  {
   "cell_type": "code",
   "execution_count": null,
   "metadata": {},
   "outputs": [],
   "source": []
  },
  {
   "cell_type": "code",
   "execution_count": null,
   "metadata": {},
   "outputs": [],
   "source": [
    "apple=plt.imread(\"rot_1.jpg\")\n",
    "imgray = cv2.cvtColor(apple,cv2.COLOR_RGB2GRAY)\n",
    "ret,thresh = cv2.threshold(imgray,100,255,0)\n",
    "# image, contours, hierarchy = cv2.findContours(thresh,cv2.RETR_TREE,cv2.CHAIN_APPROX_SIMPLE)\n",
    "# img = cv2.drawContours(image, contours, -1, (0,255,0), 3)\n",
    "gray=thresh[:,:,None]\n",
    "\n",
    "rgb_thresh=np.dstack([gray,gray,gray])\n",
    "# print(thresh.shape)\n",
    "# imag=cv2.cvtColor(gray,cv2.COLOR_GRAY2RGB)\n",
    "plt.imshow(rgb_thresh)\n",
    "rgb_thresh.shape"
   ]
  },
  {
   "cell_type": "code",
   "execution_count": null,
   "metadata": {},
   "outputs": [],
   "source": [
    "# hsv = cv2.cvtColor(apple, cv2.COLOR_BGR2HSV)\n",
    "# lower_red = np.array([0,50,50])\n",
    "# upper_red = np.array([110,255,255])\n",
    "# # red = np.uint8([[[255,0,0 ]]])\n",
    "# # hsv_red = cv2.cvtColor(red,cv2.COLOR_BGR2HSV)\n",
    "# # print(hsv_red)\n",
    "# # Threshold the HSV image to get only blue colors\n",
    "# mask = cv2.inRange(hsv, lower_red, upper_red)\n",
    "\n",
    "# res = cv2.bitwise_and(apple,apple, mask= mask)\n",
    "# plt.imshow(res)\n",
    "# res.shape"
   ]
  },
  {
   "cell_type": "code",
   "execution_count": null,
   "metadata": {},
   "outputs": [],
   "source": [
    "# red = np.uint8([[[0,0,255 ]]])\n",
    "# hsv_red = cv2.cvtColor(red,cv2.COLOR_BGR2HSV)\n",
    "# # print(hsv_red)\n",
    "# # final=cv2.bitwise_and(res,img)\n",
    "# # plt.imshow(final)"
   ]
  },
  {
   "cell_type": "code",
   "execution_count": null,
   "metadata": {},
   "outputs": [],
   "source": [
    "# result1 = cv2.addWeighted(apple, 1, thresh, 0.3, 0)\n",
    "final=cv2.bitwise_and(rgb_thresh,apple)\n",
    "plt.imshow(final)"
   ]
  },
  {
   "cell_type": "code",
   "execution_count": null,
   "metadata": {},
   "outputs": [],
   "source": [
    "##contours\n",
    "\n",
    "\n",
    "def pipeline(image):\n",
    "    imgray = cv2.cvtColor(image,cv2.COLOR_RGB2GRAY)\n",
    "#     imgray = cv2.equalizeHist(imgray)\n",
    "    ret,thresh = cv2.threshold(imgray,100,255, cv2.THRESH_BINARY)\n",
    "    image, contours, hierarchy = cv2.findContours(thresh,cv2.RETR_TREE,cv2.CHAIN_APPROX_SIMPLE)\n",
    "    \n",
    "    list_areas=[]\n",
    "    list_contour=[]\n",
    "    for contour in contours:\n",
    "        area=cv2.contourArea(contour)\n",
    "        list_areas.append(area)\n",
    "    list_areas = np.array(list_areas)\n",
    "    list_contour = np.array(contours)\n",
    "    inds = list_areas.argsort()[::-1][:5]\n",
    "    sorted_Contour= list_contour[inds]\n",
    "    img = cv2.drawContours(apple, sorted_Contour, -1, (0,255,0), 3)\n",
    "    plt.imshow(img,cmap=\"gray\")\n",
    "apple=plt.imread(\"rot_1.jpg\")\n",
    "# plt.imshow(apple,cmap=\"gray\")rotten_apple\n",
    "pipeline(apple)"
   ]
  },
  {
   "cell_type": "code",
   "execution_count": null,
   "metadata": {},
   "outputs": [],
   "source": [
    "# 0,20,20)~(8,255,255), (170,20,20) ~ (180,255,255)\n",
    "apple=plt.imread(\"or_2.jpg\")\n",
    "plt.imshow(apple)"
   ]
  },
  {
   "cell_type": "code",
   "execution_count": null,
   "metadata": {},
   "outputs": [],
   "source": [
    "apple=plt.imread(\"a4.jpg\")\n",
    "# blur = cv2.GaussianBlur(img,(5,5),0)\n",
    "kernel = np.ones((5,5),np.uint8)\n",
    "apple = cv2.morphologyEx(apple, cv2.MORPH_OPEN, kernel)\n",
    "hsv = cv2.cvtColor(apple, cv2.COLOR_RGB2HSV)\n",
    "lower_red1 = np.array([0,50,50])\n",
    "upper_red1 = np.array([8,255,255])\n",
    "lower_red2 = np.array([170,50,50])\n",
    "upper_red2 = np.array([180,255,255])\n",
    "# lower_red1 = np.array([0,50,170])\n",
    "# upper_red1 = np.array([30,255,255])\n",
    "# lower_red2 = np.array([170,50,170])\n",
    "# upper_red2 = np.array([180,255,255])\n",
    "mask1 = cv2.inRange(hsv, lower_red1, upper_red1)\n",
    "mask2 = cv2.inRange(hsv, lower_red2, upper_red2)\n",
    "mask=mask1+mask2\n",
    "res = cv2.bitwise_and(apple,apple, mask= mask)\n",
    "ret,thresh = cv2.threshold(res,1,255, cv2.THRESH_BINARY)\n",
    "imgray = cv2.cvtColor(thresh,cv2.COLOR_RGB2GRAY)\n",
    "image, contours, hierarchy = cv2.findContours(imgray,cv2.RETR_TREE,cv2.CHAIN_APPROX_SIMPLE)\n",
    "list_areas=[]\n",
    "list_contour=[]\n",
    "for contour in contours:\n",
    "    area=cv2.contourArea(contour)\n",
    "    list_areas.append(area)\n",
    "list_areas = np.array(list_areas)\n",
    "list_contour = np.array(contours)\n",
    "inds = list_areas.argsort()[::-1][:1]\n",
    "sorted_Contour= list_contour[inds]\n",
    "img = cv2.drawContours(apple, sorted_Contour, -1, (0,255,0), 3)\n",
    "plt.imshow(img)\n",
    "thresh.shape"
   ]
  },
  {
   "cell_type": "code",
   "execution_count": null,
   "metadata": {},
   "outputs": [],
   "source": [
    "pipeline(res)"
   ]
  },
  {
   "cell_type": "code",
   "execution_count": null,
   "metadata": {},
   "outputs": [],
   "source": [
    "apple=plt.imread(\"or_2.jpg\")\n",
    "\n",
    "imgray = cv2.cvtColor(apple,cv2.COLOR_RGB2GRAY)\n",
    "# imgray = cv2.equalizeHist(imgray)\n",
    "kernel_size = 5\n",
    "blur_gray = cv2.GaussianBlur(imgray,(kernel_size, kernel_size), 0)\n",
    "\n",
    "low_threshold = 100\n",
    "high_threshold = 150\n",
    "masked_edges = cv2.Canny(blur_gray, low_threshold, high_threshold)\n",
    "rho = 1\n",
    "theta = np.pi/180\n",
    "threshold = 20\n",
    "min_line_length = 2\n",
    "max_line_gap = 1\n",
    "line_image = np.copy(apple)*0 #creating a blank to draw lines on\n",
    "\n",
    "# Run Hough on edge detected image\n",
    "lines = cv2.HoughLinesP(masked_edges, rho, theta, threshold, np.array([]),\n",
    "                            min_line_length, max_line_gap)\n",
    "\n",
    "# Iterate over the output \"lines\" and draw lines on the blank\n",
    "if( lines is not None):\n",
    "    for line in lines:\n",
    "        for x1,y1,x2,y2 in line:\n",
    "            cv2.line(line_image,(x1,y1),(x2,y2),(255,0,0),10)\n",
    "\n",
    "# Create a \"color\" binary image to combine with line image\n",
    "color_edges = np.dstack((masked_edges, masked_edges, masked_edges)) \n",
    "\n",
    "# Draw the lines on the edge image\n",
    "combo = cv2.addWeighted(color_edges, 0.8, line_image, 1, 0) \n",
    "plt.imshow(combo)\n",
    "# Display the image\n",
    "# plt.imshow(edges, cmap='Greys_r')\n",
    "# plt.imshow(equ,cmap=\"gray\")"
   ]
  },
  {
   "cell_type": "code",
   "execution_count": 43,
   "metadata": {},
   "outputs": [],
   "source": [
    "import cv2\n",
    "import matplotlib.pyplot as plt\n",
    "import numpy as np\n",
    "from PIL import Image\n",
    "def find_defects(orig_image):    \n",
    "    lower_red1 = np.array([0,50,50])\n",
    "    upper_red1 = np.array([255,255,255])\n",
    "\n",
    "    hsv = cv2.cvtColor(orig_image, cv2.COLOR_RGB2HSV)\n",
    "    imgray = cv2.cvtColor(orig_image,cv2.COLOR_RGB2GRAY)\n",
    "    kernel_size = 3\n",
    "    mask = cv2.inRange(hsv, lower_red1, upper_red1)\n",
    "\n",
    "\n",
    "    res = cv2.bitwise_and(orig_image,orig_image, mask= mask)\n",
    "    ret,thresh = cv2.threshold(res,1,255, cv2.THRESH_BINARY)\n",
    "    imgray = cv2.cvtColor(thresh,cv2.COLOR_RGB2GRAY)\n",
    "    image, contours, hierarchy = cv2.findContours(imgray,cv2.RETR_TREE,cv2.CHAIN_APPROX_SIMPLE)\n",
    "    list_areas=[]\n",
    "    list_contour=[]\n",
    "    for contour in contours:\n",
    "        area=cv2.contourArea(contour)\n",
    "        list_areas.append(area)\n",
    "    list_areas = np.array(list_areas)\n",
    "    list_contour = np.array(contours)\n",
    "    inds = list_areas.argsort()[::-1][:10]\n",
    "    sorted_Contour= list_contour[inds]\n",
    "    img = cv2.drawContours(np.copy(orig_image), sorted_Contour[1:], -1, (0,255,0), 3)\n",
    "    return sorted_Contour,img\n"
   ]
  },
  {
   "cell_type": "code",
   "execution_count": 71,
   "metadata": {},
   "outputs": [],
   "source": [
    "# print(sorted_Contour[0][1])\n",
    "pixel_by_cm=1#6/1464\n",
    "\n",
    "def get_four_object_pts(Contour):\n",
    "    list_y=[]\n",
    "    list_x=[]\n",
    "    for point in Contour:\n",
    "        x=point[0][0]\n",
    "        y=point[0][1]\n",
    "        list_y.append(y)\n",
    "        list_x.append(x)\n",
    "    list_y = np.array(list_y)\n",
    "    list_x = np.array(list_x)\n",
    "    inds = list_y.argsort()#[::-1]\n",
    "    sorted_x_by_y= list_x[inds]\n",
    "    sorted_y=sorted(list_y)\n",
    "\n",
    "    inds = list_x.argsort()#[::-1]\n",
    "    sorted_x=sorted(list_x)\n",
    "    sorted_y_by_x=list_y[inds]\n",
    "\n",
    "    top_point=[sorted_x_by_y[0], sorted_y[0]]\n",
    "    bottom_point=[sorted_x_by_y[len(sorted_x_by_y)-1], sorted_y[len(sorted_y)-1]]\n",
    "    left_point=[sorted_x[0], sorted_y_by_x[0]]\n",
    "    right_point=[sorted_x[len(sorted_x)-1], sorted_y_by_x[len(sorted_y_by_x)-1]]\n",
    "\n",
    "#     top_point=[sorted_x_by_y[0]], [sorted_y[0]]\n",
    "#     bottom_point=[sorted_x_by_y[len(sorted_x_by_y)-1]], [sorted_y[len(sorted_y)-1]]\n",
    "#     left_point=([sorted_x[0]], [sorted_y_by_x[0]])\n",
    "#     right_point=([sorted_x[len(sorted_x)-1]], [sorted_y_by_x[len(sorted_y_by_x)-1]])\n",
    "    \n",
    "    height=(bottom_point[1]-top_point[1])*pixel_by_cm\n",
    "    width=(right_point[0]-left_point[0])*pixel_by_cm\n",
    "    print(\"Height\",height)\n",
    "    print(\"Width\",width)\n",
    "#     plt.imshow(orig_image)\n",
    "    return top_point,bottom_point,left_point,right_point,height,width\n",
    "\n"
   ]
  },
  {
   "cell_type": "code",
   "execution_count": null,
   "metadata": {},
   "outputs": [],
   "source": []
  },
  {
   "cell_type": "code",
   "execution_count": 74,
   "metadata": {},
   "outputs": [],
   "source": [
    "def check_contour_in_object(sorted_Contour,top_point,bottom_point,left_point,right_point):\n",
    "    for contour in sorted_Contour[1:]:\n",
    "        M = cv2.moments(contour)\n",
    "        print(top_point,bottom_point,left_point,right_point)\n",
    "        \n",
    "        cx = int(M['m10']/M['m00'])\n",
    "        cy = int(M['m01']/M['m00'])\n",
    "        print(cx,cy)\n",
    "        if(top_point[1]<cy<bottom_point[1] and left_point[1]<cx<right_point[1]):\n",
    "            print(True)\n",
    "            return True\n",
    "        else:\n",
    "            print(False)\n",
    "            return False\n",
    "    "
   ]
  },
  {
   "cell_type": "code",
   "execution_count": 75,
   "metadata": {},
   "outputs": [
    {
     "name": "stdout",
     "output_type": "stream",
     "text": [
      "Height 452\n",
      "Width 441\n",
      "[364, 95] [304, 547] [91, 325] [532, 328]\n",
      "304 258\n",
      "False\n"
     ]
    },
    {
     "data": {
      "image/png": "[encoded data removed]",
      "text/plain": [
       "<matplotlib.figure.Figure at 0xab8ad1d278>"
      ]
     },
     "metadata": {},
     "output_type": "display_data"
    }
   ],
   "source": [
    "def draw_defect_convex(sorted_Contour,orig_image):    \n",
    "    defect_contour=[]\n",
    "    hull=[]\n",
    "    for contour in sorted_Contour[1:]:\n",
    "        for points in contour:\n",
    "            defect_contour.append(points)\n",
    "\n",
    "\n",
    "    # creating convex hull object for each contour\n",
    "    hull.append(cv2.convexHull(np.array(defect_contour), False))\n",
    "    img = cv2.drawContours(np.copy(orig_image), hull, -1, (0,255,0), 3)\n",
    "    return img\n",
    "\n",
    "def plot_object_boundary_pts(plt):\n",
    "    plt.scatter([top_point[0]], [top_point[1]],linewidths=15)\n",
    "    plt.scatter([bottom_point[0]],[bottom_point[1]],linewidths=15)\n",
    "    plt.scatter([left_point[0]],[left_point[1]],linewidths=15)\n",
    "    plt.scatter([right_point[0]],[right_point[1]],linewidths=15)\n",
    "\n",
    "def plot_contour_boundary(orig_image,sorted_Contour):\n",
    "    img = cv2.drawContours(np.copy(orig_image), sorted_Contour[1:], -1, (0,255,0), 3)\n",
    "    return img\n",
    "\n",
    "orig_image=plt.imread(\"rot_1.jpg\")\n",
    "\n",
    "sorted_Contour,image_defects=find_defects(np.copy(orig_image))\n",
    "object_contour=sorted_Contour[0]\n",
    "top_point,bottom_point,left_point,right_point,height,width=get_four_object_pts(object_contour)\n",
    "ret=check_contour_in_object(sorted_Contour,top_point,bottom_point,left_point,right_point)\n",
    "boundary_img=plot_contour_boundary(np.copy(orig_image),object_contour)\n",
    "if(ret):\n",
    "    convex_img=draw_defect_convex(sorted_Contour,np.copy(orig_image))\n",
    "    f, [ax1, ax2,ax3] = plt.subplots(1, 3, figsize=(24, 9))\n",
    "    f.tight_layout()\n",
    "    ax1.imshow(image_defects)\n",
    "    plot_object_boundary_pts(ax2)\n",
    "    ax2.imshow(boundary_img)\n",
    "    ax3.imshow(convex_img)\n",
    "else:\n",
    "\n",
    "    plot_object_boundary_pts(ax2)\n",
    "    plt.imshow(boundary_img)\n"
   ]
  },
  {
   "cell_type": "code",
   "execution_count": null,
   "metadata": {},
   "outputs": [],
   "source": []
  },
  {
   "cell_type": "code",
   "execution_count": 4,
   "metadata": {},
   "outputs": [
    {
     "ename": "NameError",
     "evalue": "name 'contours' is not defined",
     "output_type": "error",
     "traceback": [
      "\u001b[1;31m---------------------------------------------------------------------------\u001b[0m",
      "\u001b[1;31mNameError\u001b[0m                                 Traceback (most recent call last)",
      "\u001b[1;32m<ipython-input-4-3406fb94341d>\u001b[0m in \u001b[0;36m<module>\u001b[1;34m()\u001b[0m\n\u001b[0;32m     15\u001b[0m \u001b[0mboundary_contour\u001b[0m\u001b[1;33m=\u001b[0m\u001b[1;33m[\u001b[0m\u001b[1;33m]\u001b[0m\u001b[1;33m\u001b[0m\u001b[0m\n\u001b[0;32m     16\u001b[0m \u001b[0mboundary_area\u001b[0m\u001b[1;33m=\u001b[0m\u001b[1;33m[\u001b[0m\u001b[1;33m]\u001b[0m\u001b[1;33m\u001b[0m\u001b[0m\n\u001b[1;32m---> 17\u001b[1;33m \u001b[1;32mfor\u001b[0m \u001b[0mcontour\u001b[0m \u001b[1;32min\u001b[0m \u001b[0mcontours\u001b[0m\u001b[1;33m:\u001b[0m\u001b[1;33m\u001b[0m\u001b[0m\n\u001b[0m\u001b[0;32m     18\u001b[0m     \u001b[0marea\u001b[0m\u001b[1;33m=\u001b[0m\u001b[0mcv2\u001b[0m\u001b[1;33m.\u001b[0m\u001b[0mcontourArea\u001b[0m\u001b[1;33m(\u001b[0m\u001b[0mcontour\u001b[0m\u001b[1;33m)\u001b[0m\u001b[1;33m\u001b[0m\u001b[0m\n\u001b[0;32m     19\u001b[0m     \u001b[1;32mif\u001b[0m\u001b[1;33m(\u001b[0m\u001b[0marea\u001b[0m\u001b[1;33m>\u001b[0m\u001b[0marea_thresh\u001b[0m \u001b[1;33m)\u001b[0m\u001b[1;33m:\u001b[0m\u001b[1;33m\u001b[0m\u001b[0m\n",
      "\u001b[1;31mNameError\u001b[0m: name 'contours' is not defined"
     ]
    }
   ],
   "source": [
    "import cv2\n",
    "import matplotlib.pyplot as plt\n",
    "import numpy as np\n",
    "from PIL import Image\n",
    "orig_image=plt.imread(\"rot_1.jpg\")\n",
    "lower_range=np.array([0,50,50])\n",
    "higher_range=np.array([180,255,255])\n",
    "hsv = cv2.cvtColor(orig_image, cv2.COLOR_RGB2HSV)\n",
    "    \n",
    "mask= cv2.inRange(hsv,lower_range , higher_range)\n",
    "res_boundary = cv2.bitwise_and(orig_image,orig_image, mask= mask)\n",
    "imgray_boundary = cv2.cvtColor(res_boundary,cv2.COLOR_RGB2GRAY)\n",
    "boundary_image, boundary_contour, boundary_hierarchy = cv2.findContours(imgray_boundary,cv2.RETR_TREE,cv2.CHAIN_APPROX_SIMPLE)\n",
    "#find boundary contour\n",
    "boundary_contour=[]\n",
    "boundary_area=[]\n",
    "for contour in contours:\n",
    "    area=cv2.contourArea(contour)\n",
    "    if(area>area_thresh ):\n",
    "        boundary_area.append(area)\n",
    "        boundary_contour.append(contour)\n",
    "boundary_area = np.array(boundary_area)\n",
    "boundary_contour = np.array(boundary_contour)\n",
    "#take top 10 highest areas\n",
    "inds = boundary_area.argsort()[::-1][:10]\n",
    "final_boundary= boundary_contour[inds]\n",
    "\n",
    "\n",
    "img1 = cv2.drawContours(np.copy(orig_image), final_boundary, -1, (0,255,0), 3)\n",
    "plt.imshow(img1)"
   ]
  },
  {
   "cell_type": "code",
   "execution_count": null,
   "metadata": {},
   "outputs": [],
   "source": []
  },
  {
   "cell_type": "code",
   "execution_count": null,
   "metadata": {},
   "outputs": [],
   "source": []
  },
  {
   "cell_type": "code",
   "execution_count": null,
   "metadata": {},
   "outputs": [],
   "source": []
  },
  {
   "cell_type": "code",
   "execution_count": null,
   "metadata": {},
   "outputs": [],
   "source": []
  },
  {
   "cell_type": "code",
   "execution_count": null,
   "metadata": {},
   "outputs": [],
   "source": []
  }
 ],
 "metadata": {
  "kernelspec": {
   "display_name": "Python (carnd-term1)",
   "language": "python",
   "name": "carnd-term1"
  },
  "language_info": {
   "codemirror_mode": {
    "name": "ipython",
    "version": 3
   },
   "file_extension": ".py",
   "mimetype": "text/x-python",
   "name": "python",
   "nbconvert_exporter": "python",
   "pygments_lexer": "ipython3",
   "version": "3.5.2"
  },
  "widgets": {
   "state": {},
   "version": "1.1.2"
  }
 },
 "nbformat": 4,
 "nbformat_minor": 2
}
